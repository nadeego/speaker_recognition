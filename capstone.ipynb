{
 "cells": [
  {
   "cell_type": "code",
   "execution_count": 344,
   "id": "01f1a26f",
   "metadata": {},
   "outputs": [],
   "source": [
    "import librosa\n",
    "from librosa.feature import melspectrogram\n",
    "import matplotlib.pyplot as plt\n",
    "import numpy as np\n",
    "from pydub import AudioSegment\n",
    "import pandas as pd\n",
    "import scipy\n",
    "from sklearn.feature_selection import SelectFromModel\n",
    "from sklearn.linear_model import LogisticRegression\n",
    "from sklearn.metrics import confusion_matrix, ConfusionMatrixDisplay, RocCurveDisplay\n",
    "from sklearn.model_selection import train_test_split, GridSearchCV\n",
    "from sklearn.pipeline import Pipeline\n",
    "from sklearn.preprocessing import PolynomialFeatures, StandardScaler\n",
    "from sklearn.svm import SVC"
   ]
  },
  {
   "cell_type": "markdown",
   "id": "d8358948",
   "metadata": {},
   "source": [
    "# <font color='GoldenRod'>Select and Generate Features for our Model</font>"
   ]
  },
  {
   "cell_type": "markdown",
   "id": "d6e9f187",
   "metadata": {},
   "source": [
    "# Spectral Centroid\n",
    "Indicates where the center of mass of the spectrum is located."
   ]
  },
  {
   "cell_type": "code",
   "execution_count": 345,
   "id": "c89854df",
   "metadata": {},
   "outputs": [],
   "source": [
    "def spectral_centroids(x, sr):\n",
    "    spectral_centroids = librosa.feature.spectral_centroid(y=x, sr=sr)[0]\n",
    "    frame_names = [\"spectral_centroid_{}\".format(i) for i in range(spectral_centroids.shape[0])]\n",
    "    return dict(zip(frame_names, spectral_centroids))"
   ]
  },
  {
   "cell_type": "markdown",
   "id": "863af8ea",
   "metadata": {},
   "source": [
    "# Spectral Bandwidth\n",
    "Describes the width of the spectrum"
   ]
  },
  {
   "cell_type": "code",
   "execution_count": 346,
   "id": "0103e000",
   "metadata": {},
   "outputs": [],
   "source": [
    "def spectral_bandwidth(x, sr):\n",
    "    spectral_bandwidth = librosa.feature.spectral_bandwidth(y=x, sr=sr)[0]\n",
    "    frame_names = [\"spectral_bandwidth_{}\".format(i) for i in range(spectral_bandwidth.shape[0])]\n",
    "    return dict(zip(frame_names, spectral_bandwidth))"
   ]
  },
  {
   "cell_type": "markdown",
   "id": "3b9e83da",
   "metadata": {},
   "source": [
    "# Energy\n",
    "\n",
    "The RMS Energy (RMSE) is the square root of the mean squared amplitude over the length of the recording"
   ]
  },
  {
   "cell_type": "code",
   "execution_count": 347,
   "id": "a54c6f66",
   "metadata": {},
   "outputs": [],
   "source": [
    "def rmse(x):\n",
    "    return {'rmse': np.sum(x**2)}"
   ]
  },
  {
   "cell_type": "markdown",
   "id": "d214eb34",
   "metadata": {},
   "source": [
    "# Zero-Crossing Rate\n",
    "The Zero Crossing Rate (ZCR) measures the rate at which the signal changes sign (crosses the zero value on the amplitude axis)."
   ]
  },
  {
   "cell_type": "code",
   "execution_count": 348,
   "id": "f2859fd4",
   "metadata": {},
   "outputs": [],
   "source": [
    "def zero_crossings(x):\n",
    "    return {'zero_crossing': sum(librosa.zero_crossings(x, pad=False))}"
   ]
  },
  {
   "cell_type": "markdown",
   "id": "1b6c0ab3",
   "metadata": {},
   "source": [
    "# Beats Per Minute (BPM)"
   ]
  },
  {
   "cell_type": "code",
   "execution_count": 349,
   "id": "d4b7329a",
   "metadata": {},
   "outputs": [],
   "source": [
    "def bpm(x, sr):\n",
    "    # Estimate the tempo from the onset strength envelope\n",
    "    tempo, _ = librosa.beat.beat_track(y=x, sr=sr)\n",
    "    return {'bpm': tempo}"
   ]
  },
  {
   "cell_type": "markdown",
   "id": "bffbf8b7",
   "metadata": {},
   "source": [
    "# Pitch\n",
    "Pitch is an important characteristic in speaker identification. Features like the average pitch, pitch variance, and max/min pitch"
   ]
  },
  {
   "cell_type": "code",
   "execution_count": 350,
   "id": "cf0a0188",
   "metadata": {},
   "outputs": [],
   "source": [
    "def pitch_stats(x, sr):\n",
    "    #estimate pitch information\n",
    "    pitches, magnitudes = librosa.piptrack(y=x, sr=sr)\n",
    "\n",
    "    # Finding the index of the maximum magnitude for each time frame\n",
    "    indices = magnitudes.argmax(axis=0)\n",
    "    # Extracting the pitches with the highest magnitude\n",
    "    pitch_track = np.take_along_axis(pitches, indices[None, :], axis=0).flatten()\n",
    "    # Removing zero-valued entries (which represent frames with no significant pitch)\n",
    "    pitch_track = pitch_track[pitch_track > 0]\n",
    "\n",
    "    average_pitch = np.mean(pitch_track)\n",
    "    pitch_variance = np.var(pitch_track)\n",
    "    max_pitch = np.max(pitch_track)\n",
    "    min_pitch = np.min(pitch_track)\n",
    "    return {'average_pitch': average_pitch, 'pitch_variance': pitch_variance,\n",
    "            'max_pitch': max_pitch, 'min_pitch': min_pitch}"
   ]
  },
  {
   "cell_type": "markdown",
   "id": "c4adf42c",
   "metadata": {},
   "source": [
    "# Spectral Contrast\n",
    "This feature measures the spectral peakiness or flatness, which can vary between speakers. It can be useful in various audio analysis tasks, such as music genre classification, speech/music discrimination, and instrument recognition."
   ]
  },
  {
   "cell_type": "code",
   "execution_count": 351,
   "id": "bdac1623",
   "metadata": {},
   "outputs": [],
   "source": [
    "def spectral_contrast(x, sr):\n",
    "    # Compute the STFT and spectral contrast\n",
    "    S = np.abs(librosa.stft(x))\n",
    "    spectral_contrast = librosa.feature.spectral_contrast(S=S, sr=sr)\n",
    "\n",
    "    # Aggregate spectral contrast features over time\n",
    "    # For example, taking the mean across all time frames for each band\n",
    "    mean_spectral_contrast = np.mean(spectral_contrast, axis=1)\n",
    "\n",
    "    # Generate feature names for each frequency band\n",
    "    n_bands = mean_spectral_contrast.shape[0]\n",
    "    feature_names = [f'Mean_SpectralContrast_Band{band+1}' for band in range(n_bands)]\n",
    "    return dict(zip(feature_names, mean_spectral_contrast))"
   ]
  },
  {
   "cell_type": "markdown",
   "id": "2596157e",
   "metadata": {},
   "source": [
    "# Mel Frequency Cepstral Coefficients (MFCC)\n",
    "They capture information about the shape of the spectral envelope, resonant frequencies, and other spectral characteristics that are unique to each speaker. MFCCs are somewhat invariant to certain types of speaker variability, such as variations in pitch and speaking rate. This makes them robust features for speaker recognition across different speaking conditions."
   ]
  },
  {
   "cell_type": "code",
   "execution_count": 352,
   "id": "ff2397ca",
   "metadata": {},
   "outputs": [],
   "source": [
    "def mfccs_stats(x, sr):\n",
    "    mfccs = librosa.feature.mfcc(y=x, sr=sr, n_mfcc=13)\n",
    "    # Calculate statistics across the time dimension (axis=1)\n",
    "    mfccs_mean = np.mean(mfccs, axis=1)  # Mean of each MFCC coefficient\n",
    "    mfccs_std = np.std(mfccs, axis=1)    # Standard deviation of each MFCC coefficient\n",
    "\n",
    "    # Concatenate the statistics to create a feature vector\n",
    "    feature_vector = np.concatenate((mfccs_mean, mfccs_std), axis=0)\n",
    "    feature_names_arr = []\n",
    "    for i in range(0,14,1):\n",
    "        feature_names_arr.append('mfcc_mean_' + str(i))\n",
    "    for j in range (0,14,1):  \n",
    "        feature_names_arr.append('mfcc_std_' + str(j))\n",
    "    return dict(zip(feature_names_arr, feature_vector))"
   ]
  },
  {
   "cell_type": "markdown",
   "id": "2f9fe636",
   "metadata": {},
   "source": [
    "# Mel Frequency Differential Coefficients\n",
    "The first-order coefficients capture the rate of change, and the second-order coefficients capture the acceleration of changes in the cepstral features."
   ]
  },
  {
   "cell_type": "code",
   "execution_count": 353,
   "id": "5d39c6ab",
   "metadata": {},
   "outputs": [],
   "source": [
    "def mfdcs(x, sr):\n",
    "    mfccs = librosa.feature.mfcc(y=x, sr=sr, n_mfcc=13)\n",
    "    mfcc_delta = librosa.feature.delta(mfccs)\n",
    "    mfcc_delta2 = librosa.feature.delta(mfccs, order=2)\n",
    "\n",
    "    mfccs_delta_mean = np.mean(mfcc_delta, axis=1)\n",
    "    mfccs_delta_std = np.std(mfcc_delta, axis=1)\n",
    "    mfccs_delta2_mean = np.mean(mfcc_delta2, axis=1)\n",
    "    mfccs_delta2_std = np.std(mfcc_delta2, axis=1)\n",
    "    \n",
    "    overall_delta_mean = np.mean(mfccs_delta_mean)\n",
    "    overall_delta_std = np.mean(mfccs_delta_std)\n",
    "    overall_delta2_mean = np.mean(mfccs_delta2_mean)\n",
    "    overall_delta2_std = np.mean(mfccs_delta2_std)\n",
    "\n",
    "    return {'overall_delta_mean' : overall_delta_mean, 'overall_delta_std': overall_delta_std,\n",
    "            'overall_delta2_mean': overall_delta2_mean, 'overall_delta2_std': overall_delta2_std}"
   ]
  },
  {
   "cell_type": "markdown",
   "id": "d2c5ced9",
   "metadata": {},
   "source": [
    "# <font color='GoldenRod'>Assemble and Build our Dataset</font>\n",
    "This will extract our selected features from our recording segments and produce a pandas dataframe."
   ]
  },
  {
   "cell_type": "code",
   "execution_count": 354,
   "id": "c7e3633f",
   "metadata": {},
   "outputs": [],
   "source": [
    "import os\n",
    "import re\n",
    "\n",
    "directory = 'data/half_sec'\n",
    "\n",
    "df = pd.DataFrame()\n",
    "rows = []\n",
    "\n",
    "# Load audio data\n",
    "for filename in os.listdir(directory):\n",
    "    values = {}\n",
    "    if filename.endswith(\".mp3\"):  # or any other file extension\n",
    "        file_path = os.path.join(directory, filename)\n",
    "        # Now you can read or process the file\n",
    "        #print(f\"Processing {file_path}\")\n",
    "        \n",
    "        # load file and extract raw audio data\n",
    "        x, sr = librosa.load(f\"{file_path}\", sr=16000)\n",
    "        \n",
    "        # add spectral centroid\n",
    "        values.update(spectral_centroids(x, sr)) \n",
    "        \n",
    "        # add spectral bandwidth\n",
    "        values.update(spectral_bandwidth(x, sr)) \n",
    "        \n",
    "        # add rmse\n",
    "        values.update(rmse(x))\n",
    "        \n",
    "        # add zero crossings\n",
    "        values.update(zero_crossings(x))\n",
    "        \n",
    "        # add BPM\n",
    "        values.update(bpm(x, sr))\n",
    "        \n",
    "        # add pitch stats\n",
    "        values.update(pitch_stats(x, sr))\n",
    "        \n",
    "        # add spectral contrast\n",
    "        values.update(spectral_contrast(x, sr))\n",
    "        \n",
    "        # add Mel Frequency Cepstral Coefficients\n",
    "        values.update(mfccs_stats(x, sr))\n",
    "        \n",
    "        # add Mel Frequency Differential Coefficients\n",
    "        values.update(mfdcs(x, sr))\n",
    "        \n",
    "        # add classification (i.e. speaker name) by extracting from filename\n",
    "        pattern = fr\"{directory}/([^_]+)\"\n",
    "        match = re.search(pattern, file_path)\n",
    "        name = match.group(1)  # The captured group\n",
    "        values.update({'speaker': name})\n",
    "\n",
    "        rows.append(values)\n",
    "        \n",
    "    else:\n",
    "        continue  # not an mp3 file\n",
    "        \n",
    "df = pd.concat([df, pd.DataFrame(rows)], ignore_index=True)\n"
   ]
  },
  {
   "cell_type": "code",
   "execution_count": 355,
   "id": "4e3ec634",
   "metadata": {},
   "outputs": [
    {
     "data": {
      "text/plain": [
       "(742, 77)"
      ]
     },
     "execution_count": 355,
     "metadata": {},
     "output_type": "execute_result"
    }
   ],
   "source": [
    "df.shape"
   ]
  },
  {
   "cell_type": "code",
   "execution_count": 356,
   "id": "61d44b39",
   "metadata": {},
   "outputs": [
    {
     "data": {
      "text/html": [
       "<div>\n",
       "<style scoped>\n",
       "    .dataframe tbody tr th:only-of-type {\n",
       "        vertical-align: middle;\n",
       "    }\n",
       "\n",
       "    .dataframe tbody tr th {\n",
       "        vertical-align: top;\n",
       "    }\n",
       "\n",
       "    .dataframe thead th {\n",
       "        text-align: right;\n",
       "    }\n",
       "</style>\n",
       "<table border=\"1\" class=\"dataframe\">\n",
       "  <thead>\n",
       "    <tr style=\"text-align: right;\">\n",
       "      <th></th>\n",
       "      <th>spectral_centroid_0</th>\n",
       "      <th>spectral_centroid_1</th>\n",
       "      <th>spectral_centroid_2</th>\n",
       "      <th>spectral_centroid_3</th>\n",
       "      <th>spectral_centroid_4</th>\n",
       "      <th>spectral_centroid_5</th>\n",
       "      <th>spectral_centroid_6</th>\n",
       "      <th>spectral_centroid_7</th>\n",
       "      <th>spectral_centroid_8</th>\n",
       "      <th>spectral_centroid_9</th>\n",
       "      <th>...</th>\n",
       "      <th>mfcc_std_7</th>\n",
       "      <th>mfcc_std_8</th>\n",
       "      <th>mfcc_std_9</th>\n",
       "      <th>mfcc_std_10</th>\n",
       "      <th>mfcc_std_11</th>\n",
       "      <th>overall_delta_mean</th>\n",
       "      <th>overall_delta_std</th>\n",
       "      <th>overall_delta2_mean</th>\n",
       "      <th>overall_delta2_std</th>\n",
       "      <th>speaker</th>\n",
       "    </tr>\n",
       "  </thead>\n",
       "  <tbody>\n",
       "    <tr>\n",
       "      <th>739</th>\n",
       "      <td>1325.463053</td>\n",
       "      <td>1425.981558</td>\n",
       "      <td>1386.120849</td>\n",
       "      <td>1195.783674</td>\n",
       "      <td>1155.795837</td>\n",
       "      <td>1040.430799</td>\n",
       "      <td>1171.232035</td>\n",
       "      <td>1399.797304</td>\n",
       "      <td>1533.234492</td>\n",
       "      <td>1596.137017</td>\n",
       "      <td>...</td>\n",
       "      <td>14.715127</td>\n",
       "      <td>6.644163</td>\n",
       "      <td>7.865900</td>\n",
       "      <td>5.010445</td>\n",
       "      <td>6.782481</td>\n",
       "      <td>-0.035663</td>\n",
       "      <td>3.251832</td>\n",
       "      <td>0.085132</td>\n",
       "      <td>1.755211</td>\n",
       "      <td>Monika</td>\n",
       "    </tr>\n",
       "    <tr>\n",
       "      <th>740</th>\n",
       "      <td>1158.575783</td>\n",
       "      <td>1087.661361</td>\n",
       "      <td>1030.203902</td>\n",
       "      <td>1111.395253</td>\n",
       "      <td>1113.839455</td>\n",
       "      <td>1094.193324</td>\n",
       "      <td>1089.458867</td>\n",
       "      <td>1023.449943</td>\n",
       "      <td>1011.134305</td>\n",
       "      <td>960.234900</td>\n",
       "      <td>...</td>\n",
       "      <td>5.764329</td>\n",
       "      <td>4.580482</td>\n",
       "      <td>4.073467</td>\n",
       "      <td>5.568580</td>\n",
       "      <td>3.636134</td>\n",
       "      <td>-0.433573</td>\n",
       "      <td>1.302406</td>\n",
       "      <td>0.011739</td>\n",
       "      <td>0.991060</td>\n",
       "      <td>Max</td>\n",
       "    </tr>\n",
       "    <tr>\n",
       "      <th>741</th>\n",
       "      <td>813.582133</td>\n",
       "      <td>845.769897</td>\n",
       "      <td>869.525338</td>\n",
       "      <td>905.190753</td>\n",
       "      <td>1209.728446</td>\n",
       "      <td>1565.897098</td>\n",
       "      <td>1354.819531</td>\n",
       "      <td>1037.673992</td>\n",
       "      <td>960.171185</td>\n",
       "      <td>1041.220988</td>\n",
       "      <td>...</td>\n",
       "      <td>9.297060</td>\n",
       "      <td>10.926280</td>\n",
       "      <td>4.587485</td>\n",
       "      <td>4.845984</td>\n",
       "      <td>7.610810</td>\n",
       "      <td>0.184012</td>\n",
       "      <td>1.774240</td>\n",
       "      <td>0.017245</td>\n",
       "      <td>1.276657</td>\n",
       "      <td>Max</td>\n",
       "    </tr>\n",
       "  </tbody>\n",
       "</table>\n",
       "<p>3 rows × 77 columns</p>\n",
       "</div>"
      ],
      "text/plain": [
       "     spectral_centroid_0  spectral_centroid_1  spectral_centroid_2  \\\n",
       "739          1325.463053          1425.981558          1386.120849   \n",
       "740          1158.575783          1087.661361          1030.203902   \n",
       "741           813.582133           845.769897           869.525338   \n",
       "\n",
       "     spectral_centroid_3  spectral_centroid_4  spectral_centroid_5  \\\n",
       "739          1195.783674          1155.795837          1040.430799   \n",
       "740          1111.395253          1113.839455          1094.193324   \n",
       "741           905.190753          1209.728446          1565.897098   \n",
       "\n",
       "     spectral_centroid_6  spectral_centroid_7  spectral_centroid_8  \\\n",
       "739          1171.232035          1399.797304          1533.234492   \n",
       "740          1089.458867          1023.449943          1011.134305   \n",
       "741          1354.819531          1037.673992           960.171185   \n",
       "\n",
       "     spectral_centroid_9  ...  mfcc_std_7  mfcc_std_8  mfcc_std_9  \\\n",
       "739          1596.137017  ...   14.715127    6.644163    7.865900   \n",
       "740           960.234900  ...    5.764329    4.580482    4.073467   \n",
       "741          1041.220988  ...    9.297060   10.926280    4.587485   \n",
       "\n",
       "     mfcc_std_10  mfcc_std_11  overall_delta_mean  overall_delta_std  \\\n",
       "739     5.010445     6.782481           -0.035663           3.251832   \n",
       "740     5.568580     3.636134           -0.433573           1.302406   \n",
       "741     4.845984     7.610810            0.184012           1.774240   \n",
       "\n",
       "     overall_delta2_mean  overall_delta2_std  speaker  \n",
       "739             0.085132            1.755211   Monika  \n",
       "740             0.011739            0.991060      Max  \n",
       "741             0.017245            1.276657      Max  \n",
       "\n",
       "[3 rows x 77 columns]"
      ]
     },
     "execution_count": 356,
     "metadata": {},
     "output_type": "execute_result"
    }
   ],
   "source": [
    "df.tail(3)"
   ]
  },
  {
   "cell_type": "code",
   "execution_count": 357,
   "id": "797b2600",
   "metadata": {
    "scrolled": false
   },
   "outputs": [
    {
     "data": {
      "text/plain": [
       "James     244\n",
       "Max       190\n",
       "Monika    177\n",
       "Henry     131\n",
       "Name: speaker, dtype: int64"
      ]
     },
     "execution_count": 357,
     "metadata": {},
     "output_type": "execute_result"
    }
   ],
   "source": [
    "df['speaker'].value_counts()"
   ]
  },
  {
   "cell_type": "markdown",
   "id": "3c00c143",
   "metadata": {},
   "source": [
    "## Train Test Split\n",
    "Employ stratification to ensure classes are proportionally represented in the train and test data. This helps given our data data is imbalanced. "
   ]
  },
  {
   "cell_type": "code",
   "execution_count": 358,
   "id": "949ae4c6",
   "metadata": {},
   "outputs": [],
   "source": [
    "X = df.drop('speaker', axis=1)\n",
    "y = df['speaker']\n",
    "\n",
    "X_train, X_test, y_train, y_test = train_test_split(X, y, random_state = 22, test_size=.2, stratify=y)"
   ]
  },
  {
   "cell_type": "markdown",
   "id": "335ef209",
   "metadata": {},
   "source": [
    "# <font color='GoldenRod'>SVM Model</font>"
   ]
  },
  {
   "cell_type": "code",
   "execution_count": 359,
   "id": "d8074727",
   "metadata": {},
   "outputs": [
    {
     "name": "stdout",
     "output_type": "stream",
     "text": [
      "grid_score : 0.8523489932885906\n",
      "best_kernel : linear\n",
      "best gamma : 0.1\n"
     ]
    }
   ],
   "source": [
    "params = {'svc__kernel': ['rbf', 'poly', 'linear', 'sigmoid'],\n",
    "          'poly__degree' : [2],\n",
    "          'svc__gamma': [0.1, 1.0, 10.0, 100.0],}\n",
    "\n",
    "pipe = Pipeline([('scaler', StandardScaler()),\n",
    "                 ('poly', PolynomialFeatures()),\n",
    "                 ('svc', SVC())])\n",
    "\n",
    "grid = GridSearchCV(pipe, param_grid=params, cv=10, n_jobs=-1, scoring='accuracy').fit(X_train, y_train)\n",
    "grid_score = grid.score(X_test, y_test)\n",
    "best_kernel = grid.best_params_['svc__kernel']\n",
    "best_gamma = grid.best_params_['svc__gamma']\n",
    "\n",
    "print(\"grid_score : {}\".format(grid_score))\n",
    "print(\"best_kernel : {}\".format(best_kernel))\n",
    "print(\"best gamma : {}\".format(best_gamma))"
   ]
  },
  {
   "cell_type": "markdown",
   "id": "08f82c02",
   "metadata": {},
   "source": [
    "# <font color='GoldenRod'>SVM Performance</font>\n",
    "## Confusion Matrix - SVM\n",
    "The confusion matrix below indicates there may be a slight biases for Class 1 and 3. With further data pre-preprocessing, it would be useful to observe how our grid changes. We may also consider selecting additional features that assist with better classification. \n"
   ]
  },
  {
   "cell_type": "code",
   "execution_count": 360,
   "id": "2c7f9d3e",
   "metadata": {},
   "outputs": [
    {
     "data": {
      "image/png": "[encoded data removed]",
      "text/plain": [
       "<Figure size 640x480 with 2 Axes>"
      ]
     },
     "metadata": {},
     "output_type": "display_data"
    }
   ],
   "source": [
    "best_model = grid.best_estimator_\n",
    "\n",
    "y_pred = best_model.predict(X_test)\n",
    "cm = confusion_matrix(y_test, y_pred)\n",
    "\n",
    "# Plotting\n",
    "disp = ConfusionMatrixDisplay(confusion_matrix=cm)\n",
    "disp.plot()\n",
    "plt.show()"
   ]
  },
  {
   "cell_type": "markdown",
   "id": "4de85ccf",
   "metadata": {},
   "source": [
    "# <font color='GoldenRod'>Logistic Regression Model</font>"
   ]
  },
  {
   "cell_type": "code",
   "execution_count": 361,
   "id": "2b75b35b",
   "metadata": {},
   "outputs": [
    {
     "name": "stdout",
     "output_type": "stream",
     "text": [
      "accuracy score : 0.8389261744966443\n",
      "best multi_class: l1\n",
      "best multi_class: ovr\n",
      "best class weight : None\n",
      "best fit intercept : True\n"
     ]
    }
   ],
   "source": [
    "# Select Features for our Model using Logistic Regression with l1 penalty\n",
    "extractor = SelectFromModel(LogisticRegression(penalty='l1', solver = 'liblinear' ,random_state = 42))\n",
    "\n",
    "# Create our pipeline with a StandardScaler and our Extractor\n",
    "lgr_pipe = Pipeline([('scaler', StandardScaler()),\n",
    "                     ('selector', extractor),\n",
    "                     ('lgr', LogisticRegression(random_state=22, max_iter=20000))])\n",
    "\n",
    "\n",
    "# Perform a grid search over our hyperparamaters\n",
    "# One-vs-Rest (OVR) was selected because our classes are mutually exclusive\n",
    "# liblinear selected because it's genrally efficient with small data sets, and supports l1 and l2 regularization\n",
    "param_grid = {\n",
    "    'lgr__solver': ['liblinear'],\n",
    "    'lgr__penalty': ['l1', 'l2'],\n",
    "    'lgr__multi_class': ['ovr'],\n",
    "    'lgr__class_weight': ['balanced', None],\n",
    "    'lgr__fit_intercept': [True, False]\n",
    "}\n",
    "\n",
    "# We want high accuracy to enable security and forensic applications\n",
    "grid = GridSearchCV(lgr_pipe, param_grid, cv=10, scoring='accuracy', n_jobs=-1)\n",
    "grid.fit(X_train, y_train)\n",
    "acc = grid.score(X_test, y_test)\n",
    "\n",
    "best_penalty = grid.best_params_['lgr__penalty']\n",
    "best_multi_class = grid.best_params_['lgr__multi_class']\n",
    "best_class_weight = grid.best_params_['lgr__class_weight']\n",
    "best_fit_intercept = grid.best_params_['lgr__fit_intercept']\n",
    "\n",
    "print(\"accuracy score : {}\".format(acc))\n",
    "print(\"best penalty: {}\".format(best_penalty))\n",
    "print(\"best multi_class: {}\".format(best_multi_class))\n",
    "print(\"best class weight : {}\".format(best_class_weight))\n",
    "print(\"fit intercept : {}\".format(best_fit_intercept))"
   ]
  },
  {
   "cell_type": "markdown",
   "id": "46527e84",
   "metadata": {},
   "source": [
    "# <font color='GoldenRod'>Logistic Regression Performance</font>\n",
    "## Confusion Matrix - Logistic Regression\n",
    "The confusion matrix below indicates there may be a slight biases for Class 1 and 3. With further data pre-preprocessing, it would be useful to observe how our grid changes. We may also consider selecting additional features that assist with better classification. "
   ]
  },
  {
   "cell_type": "code",
   "execution_count": 362,
   "id": "6517ae35",
   "metadata": {},
   "outputs": [
    {
     "data": {
      "image/png": "[encoded data removed]",
      "text/plain": [
       "<Figure size 640x480 with 2 Axes>"
      ]
     },
     "metadata": {},
     "output_type": "display_data"
    }
   ],
   "source": [
    "best_model = grid.best_estimator_\n",
    "\n",
    "y_pred = best_model.predict(X_test)\n",
    "cm = confusion_matrix(y_test, y_pred)\n",
    "\n",
    "# Plotting\n",
    "disp = ConfusionMatrixDisplay(confusion_matrix=cm)\n",
    "disp.plot()\n",
    "plt.show()\n"
   ]
  },
  {
   "cell_type": "code",
   "execution_count": null,
   "id": "13b8abf9",
   "metadata": {},
   "outputs": [],
   "source": []
  },
  {
   "cell_type": "code",
   "execution_count": null,
   "id": "664b1f2e",
   "metadata": {},
   "outputs": [],
   "source": []
  }
 ],
 "metadata": {
  "kernelspec": {
   "display_name": "Python 3 (ipykernel)",
   "language": "python",
   "name": "python3"
  },
  "language_info": {
   "codemirror_mode": {
    "name": "ipython",
    "version": 3
   },
   "file_extension": ".py",
   "mimetype": "text/x-python",
   "name": "python",
   "nbconvert_exporter": "python",
   "pygments_lexer": "ipython3",
   "version": "3.10.9"
  }
 },
 "nbformat": 4,
 "nbformat_minor": 5
}
